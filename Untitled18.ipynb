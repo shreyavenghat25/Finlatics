{
  "nbformat": 4,
  "nbformat_minor": 0,
  "metadata": {
    "colab": {
      "provenance": [],
      "authorship_tag": "ABX9TyPh8Z8vQesdR8IgBvq4/hC7",
      "include_colab_link": true
    },
    "kernelspec": {
      "name": "python3",
      "display_name": "Python 3"
    },
    "language_info": {
      "name": "python"
    }
  },
  "cells": [
    {
      "cell_type": "markdown",
      "metadata": {
        "id": "view-in-github",
        "colab_type": "text"
      },
      "source": [
        "<a href=\"https://colab.research.google.com/github/shreyavenghat25/Finlatics/blob/main/Untitled18.ipynb\" target=\"_parent\"><img src=\"https://colab.research.google.com/assets/colab-badge.svg\" alt=\"Open In Colab\"/></a>"
      ]
    },
    {
      "cell_type": "code",
      "source": [
        "import pandas as pd\n",
        "import matplotlib.pyplot as plt\n",
        "import seaborn as sns\n",
        "from sklearn.linear_model import LinearRegression\n",
        "from sklearn.model_selection import train_test_split\n",
        "from sklearn.preprocessing import StandardScaler\n",
        "from sklearn.metrics import mean_squared_error, r2_score"
      ],
      "metadata": {
        "id": "lYcgCJH7STSq"
      },
      "execution_count": 2,
      "outputs": []
    },
    {
      "cell_type": "code",
      "source": [
        "df = pd.read_excel(\"advertising_sales_data.xlsx\")"
      ],
      "metadata": {
        "id": "Hf3PCxYTSzBd"
      },
      "execution_count": 3,
      "outputs": []
    },
    {
      "cell_type": "code",
      "source": [
        "print(\"First 5 rows of the dataset:\")\n",
        "print(df.head())"
      ],
      "metadata": {
        "colab": {
          "base_uri": "https://localhost:8080/"
        },
        "id": "piPNw4OSS2SR",
        "outputId": "0280eb89-dc99-495a-e8b2-590b51f49a6f"
      },
      "execution_count": 4,
      "outputs": [
        {
          "output_type": "stream",
          "name": "stdout",
          "text": [
            "First 5 rows of the dataset:\n",
            "  Campaign     TV  Radio  Newspaper  Sales\n",
            "0    camp1  230.1   37.8       69.2   22.1\n",
            "1    camp2   44.5   39.3       45.1   10.4\n",
            "2    camp3   17.2   45.9       69.3   12.0\n",
            "3    camp4  151.5   41.3       58.5   16.5\n",
            "4    camp5  180.8   10.8       58.4   17.9\n"
          ]
        }
      ]
    },
    {
      "cell_type": "code",
      "source": [
        "print(\"\\nMissing values in each column:\")\n",
        "print(df.isnull().sum())"
      ],
      "metadata": {
        "colab": {
          "base_uri": "https://localhost:8080/"
        },
        "id": "OwT2EOkbTYwR",
        "outputId": "1022ea0d-7991-4738-bb9b-2f877069bd92"
      },
      "execution_count": 5,
      "outputs": [
        {
          "output_type": "stream",
          "name": "stdout",
          "text": [
            "\n",
            "Missing values in each column:\n",
            "Campaign     0\n",
            "TV           0\n",
            "Radio        2\n",
            "Newspaper    0\n",
            "Sales        0\n",
            "dtype: int64\n"
          ]
        }
      ]
    },
    {
      "cell_type": "code",
      "source": [
        "df = df.dropna()\n",
        "print(\"\\nShape after dropping missing values:\", df.shape)"
      ],
      "metadata": {
        "colab": {
          "base_uri": "https://localhost:8080/"
        },
        "id": "NAQQotH3Tb4x",
        "outputId": "1b934b49-8529-42e4-f3e2-fb61e73312c3"
      },
      "execution_count": 6,
      "outputs": [
        {
          "output_type": "stream",
          "name": "stdout",
          "text": [
            "\n",
            "Shape after dropping missing values: (198, 5)\n"
          ]
        }
      ]
    },
    {
      "cell_type": "code",
      "source": [
        "average_tv = df['TV'].mean()\n",
        "print(f\"\\n1. Average amount spent on TV advertising: ${average_tv:.2f}\")"
      ],
      "metadata": {
        "colab": {
          "base_uri": "https://localhost:8080/"
        },
        "id": "PdgyfeogTfBF",
        "outputId": "473d1094-d77d-4b67-8111-fe3f522c58c7"
      },
      "execution_count": 7,
      "outputs": [
        {
          "output_type": "stream",
          "name": "stdout",
          "text": [
            "\n",
            "1. Average amount spent on TV advertising: $146.79\n"
          ]
        }
      ]
    },
    {
      "cell_type": "code",
      "source": [
        "correlation = df[['Radio', 'Sales']].corr().iloc[0, 1]\n",
        "print(f\"\\n2. Correlation between Radio and Sales: {correlation:.3f}\")"
      ],
      "metadata": {
        "colab": {
          "base_uri": "https://localhost:8080/"
        },
        "id": "-t82u_jgTiB8",
        "outputId": "e505d1fc-07c9-4988-b0e0-24c25d4d8d83"
      },
      "execution_count": 8,
      "outputs": [
        {
          "output_type": "stream",
          "name": "stdout",
          "text": [
            "\n",
            "2. Correlation between Radio and Sales: 0.350\n"
          ]
        }
      ]
    },
    {
      "cell_type": "code",
      "source": [
        "print(\"\\n3. Correlation of each medium with Sales:\")\n",
        "corr_matrix = df[['TV', 'Radio', 'Newspaper', 'Sales']].corr()\n",
        "print(corr_matrix['Sales'].drop('Sales'))"
      ],
      "metadata": {
        "colab": {
          "base_uri": "https://localhost:8080/"
        },
        "id": "JvEUUjnbTnmz",
        "outputId": "fa7ebe96-7de7-43fd-dc07-fae7baf19923"
      },
      "execution_count": 9,
      "outputs": [
        {
          "output_type": "stream",
          "name": "stdout",
          "text": [
            "\n",
            "3. Correlation of each medium with Sales:\n",
            "TV           0.901372\n",
            "Radio        0.349728\n",
            "Newspaper    0.159125\n",
            "Name: Sales, dtype: float64\n"
          ]
        }
      ]
    },
    {
      "cell_type": "code",
      "source": [
        "sns.heatmap(corr_matrix, annot=True, cmap='coolwarm')\n",
        "plt.title(\"Correlation Heatmap\")\n",
        "plt.show()"
      ],
      "metadata": {
        "colab": {
          "base_uri": "https://localhost:8080/",
          "height": 452
        },
        "id": "P6h9TloSTowE",
        "outputId": "7421c47e-25dd-42f3-b639-9eb46e7c4efd"
      },
      "execution_count": 10,
      "outputs": [
        {
          "output_type": "display_data",
          "data": {
            "text/plain": [
              "<Figure size 640x480 with 2 Axes>"
            ],
            "image/png": "[encoded data removed]"
          },
          "metadata": {}
        }
      ]
    },
    {
      "cell_type": "code",
      "source": [
        "X = df[['TV', 'Radio', 'Newspaper']]\n",
        "y = df['Sales']\n",
        "\n",
        "X_train, X_test, y_train, y_test = train_test_split(X, y, test_size=0.2, random_state=42)\n",
        "\n",
        "model = LinearRegression()\n",
        "model.fit(X_train, y_train)\n",
        "\n",
        "y_pred = model.predict(X_test)\n",
        "\n",
        "# Plot actual vs predicted sales\n",
        "plt.scatter(y_test, y_pred, alpha=0.7)\n",
        "plt.xlabel(\"Actual Sales\")\n",
        "plt.ylabel(\"Predicted Sales\")\n",
        "plt.title(\"Actual vs Predicted Sales\")\n",
        "plt.plot([y.min(), y.max()], [y.min(), y.max()], 'r--')\n",
        "plt.grid(True)\n",
        "plt.show()\n"
      ],
      "metadata": {
        "colab": {
          "base_uri": "https://localhost:8080/",
          "height": 472
        },
        "id": "TawLkubJTriJ",
        "outputId": "18ebf683-ca9f-4a72-d11c-05ebcb70f80f"
      },
      "execution_count": 11,
      "outputs": [
        {
          "output_type": "display_data",
          "data": {
            "text/plain": [
              "<Figure size 640x480 with 1 Axes>"
            ],
            "image/png": "[encoded data removed]"
          },
          "metadata": {}
        }
      ]
    },
    {
      "cell_type": "code",
      "source": [
        "import numpy as np\n",
        "\n",
        "mse = mean_squared_error(y_test, y_pred)\n",
        "rmse = np.sqrt(mse)\n",
        "print(\"RMSE:\", rmse)"
      ],
      "metadata": {
        "colab": {
          "base_uri": "https://localhost:8080/"
        },
        "id": "CBvHVPGmTuSf",
        "outputId": "8cecf647-7c92-4ebf-c5e7-07205f7d7a2e"
      },
      "execution_count": 13,
      "outputs": [
        {
          "output_type": "stream",
          "name": "stdout",
          "text": [
            "RMSE: 1.4207828467605377\n"
          ]
        }
      ]
    },
    {
      "cell_type": "code",
      "source": [
        "from sklearn.metrics import mean_squared_error, r2_score\n",
        "import numpy as np\n",
        "\n",
        "print(\"\\n4. Model Performance:\")\n",
        "print(\"R-squared:\", r2_score(y_test, y_pred))\n",
        "\n",
        "mse = mean_squared_error(y_test, y_pred)\n",
        "rmse = np.sqrt(mse)\n",
        "print(\"RMSE:\", rmse)"
      ],
      "metadata": {
        "colab": {
          "base_uri": "https://localhost:8080/"
        },
        "id": "TzB3fQvoUBc_",
        "outputId": "ed0c14f1-ae4b-48be-bbae-f4f115daec38"
      },
      "execution_count": 14,
      "outputs": [
        {
          "output_type": "stream",
          "name": "stdout",
          "text": [
            "\n",
            "4. Model Performance:\n",
            "R-squared: 0.89910282638328\n",
            "RMSE: 1.4207828467605377\n"
          ]
        }
      ]
    },
    {
      "cell_type": "code",
      "source": [
        "new_input = pd.DataFrame({'TV': [200], 'Radio': [40], 'Newspaper': [50]})\n",
        "predicted_sales = model.predict(new_input)\n",
        "print(f\"\\n5. Predicted sales for TV=200, Radio=40, Newspaper=50: {predicted_sales[0]:.2f}\")"
      ],
      "metadata": {
        "colab": {
          "base_uri": "https://localhost:8080/"
        },
        "id": "1hOZK6hyUE2a",
        "outputId": "ea97f94c-1572-49f9-9c19-b7f50a202a5a"
      },
      "execution_count": 15,
      "outputs": [
        {
          "output_type": "stream",
          "name": "stdout",
          "text": [
            "\n",
            "5. Predicted sales for TV=200, Radio=40, Newspaper=50: 19.82\n"
          ]
        }
      ]
    },
    {
      "cell_type": "code",
      "source": [
        "\n",
        "from sklearn.preprocessing import StandardScaler\n",
        "from sklearn.linear_model import LinearRegression\n",
        "from sklearn.model_selection import train_test_split\n",
        "from sklearn.metrics import r2_score, mean_squared_error\n",
        "import numpy as np\n",
        "\n",
        "# Normalize features\n",
        "scaler = StandardScaler()\n",
        "X_scaled = scaler.fit_transform(X)\n",
        "\n",
        "# Train-test split\n",
        "X_train_scaled, X_test_scaled, y_train, y_test = train_test_split(X_scaled, y, test_size=0.2, random_state=42)\n",
        "\n",
        "# Train model\n",
        "model_scaled = LinearRegression()\n",
        "model_scaled.fit(X_train_scaled, y_train)\n",
        "\n",
        "# Predict\n",
        "y_pred_scaled = model_scaled.predict(X_test_scaled)\n",
        "\n",
        "# Evaluate\n",
        "print(\"\\n6. Normalized Model Performance:\")\n",
        "print(\"R-squared:\", r2_score(y_test, y_pred_scaled))\n",
        "\n",
        "mse_scaled = mean_squared_error(y_test, y_pred_scaled)\n",
        "rmse_scaled = np.sqrt(mse_scaled)\n",
        "print(\"RMSE:\", rmse_scaled)\n"
      ],
      "metadata": {
        "colab": {
          "base_uri": "https://localhost:8080/"
        },
        "id": "sdJ7VYsQUJGc",
        "outputId": "f2d0d90e-ca97-4f74-c577-140bd5be84b3"
      },
      "execution_count": 17,
      "outputs": [
        {
          "output_type": "stream",
          "name": "stdout",
          "text": [
            "\n",
            "6. Normalized Model Performance:\n",
            "R-squared: 0.89910282638328\n",
            "RMSE: 1.4207828467605377\n"
          ]
        }
      ]
    },
    {
      "cell_type": "code",
      "source": [
        "X_limited = df[['Radio', 'Newspaper']]\n",
        "X_train_limited, X_test_limited, y_train, y_test = train_test_split(X_limited, y, test_size=0.2, random_state=42)\n",
        "\n",
        "model_limited = LinearRegression()\n",
        "model_limited.fit(X_train_limited, y_train)\n",
        "\n",
        "y_pred_limited = model_limited.predict(X_test_limited)\n",
        "\n",
        "print(\"\\n7. Model using only Radio and Newspaper:\")\n",
        "print(\"R-squared:\", r2_score(y_test, y_pred_limited))\n",
        "\n",
        "mse_limited = mean_squared_error(y_test, y_pred_limited)\n",
        "rmse_limited = np.sqrt(mse_limited)\n",
        "print(\"RMSE:\", rmse_limited)\n"
      ],
      "metadata": {
        "colab": {
          "base_uri": "https://localhost:8080/"
        },
        "id": "e1iYPhy4UeI4",
        "outputId": "39ff3c6f-93b1-4740-e0a6-dfc94f65faa5"
      },
      "execution_count": 18,
      "outputs": [
        {
          "output_type": "stream",
          "name": "stdout",
          "text": [
            "\n",
            "7. Model using only Radio and Newspaper:\n",
            "R-squared: -0.05191341464060373\n",
            "RMSE: 4.5875224396074685\n"
          ]
        }
      ]
    }
  ]
}